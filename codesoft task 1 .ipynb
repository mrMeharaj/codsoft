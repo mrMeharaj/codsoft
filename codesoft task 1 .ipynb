{
 "cells": [
  {
   "cell_type": "markdown",
   "id": "2d5f2bc3-9ecb-4d1c-a3b4-bb1f410f6999",
   "metadata": {},
   "source": [
    "### TASK 1  TO-DO LIST"
   ]
  },
  {
   "cell_type": "markdown",
   "id": "62b3a990-356a-4d25-96c6-9f17630dfa39",
   "metadata": {},
   "source": [
    "### A To-Do List application is a useful project that helps users manage and organize their tasks efficiently."
   ]
  },
  {
   "cell_type": "markdown",
   "id": "6b3bc81b-c0e5-4266-9ea1-33370049fc4a",
   "metadata": {},
   "source": [
    "### This project aims to create a command-line or GUI-based application using Python, allowing users to create, update, and track their to-do lists¶"
   ]
  },
  {
   "cell_type": "code",
   "execution_count": 23,
   "id": "1df1d150-cf76-42c7-af08-f84e58f508db",
   "metadata": {},
   "outputs": [
    {
     "name": "stdout",
     "output_type": "stream",
     "text": [
      "===== TO-DO LIST =====\n",
      "1. Add Task\n",
      "2. View Tasks\n",
      "3. Mark Task as Complete\n",
      "4. Edit Task\n",
      "5. Delete Task\n",
      "6. Exit\n"
     ]
    },
    {
     "name": "stdin",
     "output_type": "stream",
     "text": [
      "Enter your choice:  1\n",
      "Enter the task:  Complete my Python project\n"
     ]
    },
    {
     "name": "stdout",
     "output_type": "stream",
     "text": [
      "Task added successfully!\n",
      "\n",
      "===== TO-DO LIST =====\n",
      "1. Add Task\n",
      "2. View Tasks\n",
      "3. Mark Task as Complete\n",
      "4. Edit Task\n",
      "5. Delete Task\n",
      "6. Exit\n"
     ]
    },
    {
     "name": "stdin",
     "output_type": "stream",
     "text": [
      "Enter your choice:  2\n"
     ]
    },
    {
     "name": "stdout",
     "output_type": "stream",
     "text": [
      "\n",
      "Your Tasks:\n",
      "1. Complete my Python project - Wrong\n",
      "\n",
      "===== TO-DO LIST =====\n",
      "1. Add Task\n",
      "2. View Tasks\n",
      "3. Mark Task as Complete\n",
      "4. Edit Task\n",
      "5. Delete Task\n",
      "6. Exit\n"
     ]
    },
    {
     "name": "stdin",
     "output_type": "stream",
     "text": [
      "Enter your choice:  3\n"
     ]
    },
    {
     "name": "stdout",
     "output_type": "stream",
     "text": [
      "\n",
      "Your Tasks:\n",
      "1. Complete my Python project - Wrong\n",
      "\n"
     ]
    },
    {
     "name": "stdin",
     "output_type": "stream",
     "text": [
      "Enter task number to mark as complete:  Task marked as completed!\n"
     ]
    },
    {
     "name": "stdout",
     "output_type": "stream",
     "text": [
      "Please enter a valid number.\n",
      "\n",
      "===== TO-DO LIST =====\n",
      "1. Add Task\n",
      "2. View Tasks\n",
      "3. Mark Task as Complete\n",
      "4. Edit Task\n",
      "5. Delete Task\n",
      "6. Exit\n"
     ]
    },
    {
     "name": "stdin",
     "output_type": "stream",
     "text": [
      "Enter your choice:  Complete my Python project\n"
     ]
    },
    {
     "name": "stdout",
     "output_type": "stream",
     "text": [
      "Invalid choice. Please try again.\n",
      "\n",
      "===== TO-DO LIST =====\n",
      "1. Add Task\n",
      "2. View Tasks\n",
      "3. Mark Task as Complete\n",
      "4. Edit Task\n",
      "5. Delete Task\n",
      "6. Exit\n"
     ]
    },
    {
     "name": "stdin",
     "output_type": "stream",
     "text": [
      "Enter your choice:  Exiting To-Do List. Goodbye!\n"
     ]
    },
    {
     "name": "stdout",
     "output_type": "stream",
     "text": [
      "Invalid choice. Please try again.\n",
      "\n",
      "===== TO-DO LIST =====\n",
      "1. Add Task\n",
      "2. View Tasks\n",
      "3. Mark Task as Complete\n",
      "4. Edit Task\n",
      "5. Delete Task\n",
      "6. Exit\n"
     ]
    },
    {
     "name": "stdin",
     "output_type": "stream",
     "text": [
      "Enter your choice:  6\n"
     ]
    },
    {
     "name": "stdout",
     "output_type": "stream",
     "text": [
      "Exiting To-Do List. Goodbye!\n"
     ]
    }
   ],
   "source": [
    "tasks = []  \n",
    "\n",
    "def add_task():\n",
    "    task = input(\"Enter the task: \")\n",
    "    tasks.append({\"task\": task, \"completed\": False})\n",
    "    print(\"Task added successfully!\\n\")\n",
    "\n",
    "def view_tasks():\n",
    "    if not tasks:\n",
    "        print(\"No tasks available.\\n\")\n",
    "        return\n",
    "    print(\"\\nYour Tasks:\")\n",
    "    for idx, task in enumerate(tasks, start=1):\n",
    "        status = \"correct\" if task[\"completed\"] else \"Wrong\"\n",
    "        print(f\"{idx}. {task['task']} - {status}\")\n",
    "    print()\n",
    "\n",
    "def mark_complete():\n",
    "    view_tasks()\n",
    "    try:\n",
    "        index = int(input(\"Enter task number to mark as complete: \")) - 1\n",
    "        if 0 <= index < len(tasks):\n",
    "            tasks[index][\"completed\"] = True\n",
    "            print(\"Task marked as completed!\\n\")\n",
    "        else:\n",
    "            print(\"Invalid task number.\\n\")\n",
    "    except ValueError:\n",
    "        print(\"Please enter a valid number.\\n\")\n",
    "\n",
    "def delete_task():\n",
    "    view_tasks()\n",
    "    try:\n",
    "        index = int(input(\"Enter task number to delete: \")) - 1\n",
    "        if 0 <= index < len(tasks):\n",
    "            tasks.pop(index)\n",
    "            print(\"Task deleted successfully!\\n\")\n",
    "        else:\n",
    "            print(\"Invalid task number.\\n\")\n",
    "    except ValueError:\n",
    "        print(\"Please enter a valid number.\\n\")\n",
    "\n",
    "def edit_task():\n",
    "    view_tasks()\n",
    "    try:\n",
    "        index = int(input(\"Enter task number to edit: \")) - 1\n",
    "        if 0 <= index < len(tasks):\n",
    "            new_task = input(\"Enter the new task description: \")\n",
    "            # tasks[index][\"task\"] = new_task\n",
    "            print(\"Task updated successfully!\\n\")\n",
    "        else:\n",
    "            print(\"Invalid task number.\\n\")\n",
    "    except ValueError:\n",
    "        print(\"Please enter a valid number.\\n\")\n",
    "\n",
    "\n",
    "while True:\n",
    "    print(\"===== TO-DO LIST =====\")\n",
    "    print(\"1. Add Task\")\n",
    "    print(\"2. View Tasks\")\n",
    "    print(\"3. Mark Task as Complete\")\n",
    "    print(\"4. Edit Task\")\n",
    "    print(\"5. Delete Task\")\n",
    "    print(\"6. Exit\")\n",
    "\n",
    "    choice = input(\"Enter your choice: \")\n",
    "    \n",
    "    if choice == \"1\":\n",
    "        add_task()\n",
    "    elif choice == \"2\":\n",
    "        view_tasks()\n",
    "    elif choice == \"3\":\n",
    "        mark_complete()\n",
    "    elif choice == \"4\":\n",
    "        edit_task()\n",
    "    elif choice == \"5\":1\n",
    "        delete_task()\n",
    "    elif choice == \"6\":\n",
    "        print(\"Exiting To-Do List. Goodbye!\")\n",
    "        break\n",
    "    else:\n",
    "        print(\"Invalid choice. Please try again.\\n\")\n"
   ]
  },
  {
   "cell_type": "code",
   "execution_count": null,
   "id": "36a95fe5-c42f-4cad-a9d6-daa9da97b759",
   "metadata": {},
   "outputs": [],
   "source": []
  },
  {
   "cell_type": "markdown",
   "id": "fd2496bf-0b41-4476-b6a1-af3122bdaadf",
   "metadata": {},
   "source": [
    "### Add tasks (Complete my Python project, Study SQL)"
   ]
  },
  {
   "cell_type": "markdown",
   "id": "0f46f5d0-7532-4cc7-b667-d3b154c87799",
   "metadata": {},
   "source": [
    "### View tasks (Displays tasks with \"Wrong\" for incomplete tasks)"
   ]
  },
  {
   "cell_type": "markdown",
   "id": "0aab4233-362d-4fce-b737-c3433fc6fa61",
   "metadata": {},
   "source": [
    "### Mark a task as complete (Marks \"Complete my Python project\" as \"correct\")"
   ]
  },
  {
   "cell_type": "markdown",
   "id": "39526c96-5139-4c5e-a553-e00f056b6650",
   "metadata": {},
   "source": [
    "### Delete a task (Removes \"Study SQL\")"
   ]
  },
  {
   "cell_type": "markdown",
   "id": "45e2b8b0-4ab3-4a89-b073-3d5fdfc69d23",
   "metadata": {},
   "source": [
    "### Exit the program"
   ]
  },
  {
   "cell_type": "code",
   "execution_count": null,
   "id": "893a82f4-6d55-4ef9-b8d2-66f33b9ffd99",
   "metadata": {},
   "outputs": [],
   "source": []
  }
 ],
 "metadata": {
  "kernelspec": {
   "display_name": "Python 3 (ipykernel)",
   "language": "python",
   "name": "python3"
  },
  "language_info": {
   "codemirror_mode": {
    "name": "ipython",
    "version": 3
   },
   "file_extension": ".py",
   "mimetype": "text/x-python",
   "name": "python",
   "nbconvert_exporter": "python",
   "pygments_lexer": "ipython3",
   "version": "3.12.4"
  }
 },
 "nbformat": 4,
 "nbformat_minor": 5
}
