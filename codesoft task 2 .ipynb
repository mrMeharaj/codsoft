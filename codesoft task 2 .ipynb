{
 "cells": [
  {
   "cell_type": "markdown",
   "id": "cb940428-40fb-4c51-8232-9f74ee434a37",
   "metadata": {},
   "source": [
    "### TASK- 2 CALCULATOR"
   ]
  },
  {
   "cell_type": "markdown",
   "id": "2cd228a7-4970-4e64-867a-4381d2d219bd",
   "metadata": {},
   "source": [
    "### Design a simple calculator with basic arithmetic operations. Prompt the user to input two numbers and an operation choice. \n"
   ]
  },
  {
   "cell_type": "markdown",
   "id": "e8d06267-7311-4150-bead-0454a36a20a2",
   "metadata": {},
   "source": [
    "### Perform the calculation and display the result.\n"
   ]
  },
  {
   "cell_type": "code",
   "execution_count": 5,
   "id": "88411bd0-e82e-400e-b075-4adce3be293c",
   "metadata": {},
   "outputs": [
    {
     "name": "stdout",
     "output_type": "stream",
     "text": [
      "Simple Calculator\n",
      "Operations: +, -, *, /\n"
     ]
    },
    {
     "name": "stdin",
     "output_type": "stream",
     "text": [
      "Enter first number:  5.1\n",
      "Enter second number:  1.2\n",
      "Enter operation (+, -, *, /):  /\n"
     ]
    },
    {
     "name": "stdout",
     "output_type": "stream",
     "text": [
      "Result: 4.25\n"
     ]
    }
   ],
   "source": [
    "def calculator():\n",
    "    print(\"Simple Calculator\")\n",
    "    print(\"Operations: +, -, *, /\")\n",
    "    \n",
    "    try:\n",
    "        num1 = float(input(\"Enter first number: \"))\n",
    "        num2 = float(input(\"Enter second number: \"))\n",
    "        operation = input(\"Enter operation (+, -, *, /): \")\n",
    "        \n",
    "        if operation == '+':\n",
    "            result = num1 + num2\n",
    "        elif operation == '-':\n",
    "            result = num1 - num2\n",
    "        elif operation == '*':\n",
    "            result = num1 * num2\n",
    "        elif operation == '/':\n",
    "            if num2 == 0:\n",
    "                print(\"Error: Division by zero is not allowed.\")\n",
    "                return\n",
    "            result = num1 / num2\n",
    "        else:\n",
    "            print(\"Invalid operation.\")\n",
    "            return\n",
    "        \n",
    "        print(f\"Result: {result}\")\n",
    "    except ValueError:\n",
    "        print(\"Invalid input! Please enter numeric values.\")\n",
    "\n",
    "calculator()"
   ]
  },
  {
   "cell_type": "code",
   "execution_count": null,
   "id": "3ba634b1-a245-43ac-85f9-f8fb50eb5ac7",
   "metadata": {},
   "outputs": [],
   "source": []
  }
 ],
 "metadata": {
  "kernelspec": {
   "display_name": "Python 3 (ipykernel)",
   "language": "python",
   "name": "python3"
  },
  "language_info": {
   "codemirror_mode": {
    "name": "ipython",
    "version": 3
   },
   "file_extension": ".py",
   "mimetype": "text/x-python",
   "name": "python",
   "nbconvert_exporter": "python",
   "pygments_lexer": "ipython3",
   "version": "3.12.4"
  }
 },
 "nbformat": 4,
 "nbformat_minor": 5
}
