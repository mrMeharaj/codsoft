{
 "cells": [
  {
   "cell_type": "markdown",
   "id": "d18f698b-8bd3-43b4-99a7-a97d24ec551a",
   "metadata": {},
   "source": [
    "### PASSWORD GENERATOR"
   ]
  },
  {
   "cell_type": "markdown",
   "id": "bfa43cc3-9a42-4f53-ba88-c77c5c16a4c2",
   "metadata": {},
   "source": [
    "### A password generator is a useful tool that generates strong and random passwords for users. This project aims to create a password generator application using Python, allowing users to specify the length and complexity of the password.\n"
   ]
  },
  {
   "cell_type": "markdown",
   "id": "6e6f4815-6c0a-4aaa-a03b-3511a61acc44",
   "metadata": {},
   "source": [
    "### User Input: Prompt the user to specify the desired length of the password.\n"
   ]
  },
  {
   "cell_type": "markdown",
   "id": "79ea7f4a-22f1-4f1a-b97a-4b9ee4ad9ac6",
   "metadata": {},
   "source": [
    "### Generate Password: Use a combination of random characters to generate a password of the specified length.\n"
   ]
  },
  {
   "cell_type": "markdown",
   "id": "dd8bce1f-0c10-47fd-8337-1291e7c887b6",
   "metadata": {},
   "source": [
    "### Display the Password: Print the generated password on the screen"
   ]
  },
  {
   "cell_type": "code",
   "execution_count": 25,
   "id": "51a4388f-68c0-46f5-b149-0431fc21885c",
   "metadata": {},
   "outputs": [
    {
     "name": "stdin",
     "output_type": "stream",
     "text": [
      "Enter the desired length of the password:  6\n"
     ]
    },
    {
     "name": "stdout",
     "output_type": "stream",
     "text": [
      "Generated Password: DKRYfm\n"
     ]
    }
   ],
   "source": [
    "# Password Generator in Python\n",
    "\n",
    "def generate_password(length):\n",
    "    uppercase_letters = \"ABCDEFGHIJKLMNOPQRSTUVWXYZ\"\n",
    "    lowercase_letters = \"abcdefghijklmnopqrstuvwxyz\"\n",
    "    numbers = \"0123456789\"\n",
    "    special_characters = \"!@#$%^&*()_+-=[]{}|;:,.<>?/\"\n",
    "    \n",
    "    \n",
    "    all_characters = uppercase_letters + lowercase_letters + numbers + special_characters\n",
    "    password = \"\"\n",
    "    for i in range(length):\n",
    "        random_index = (i * 7 + 3) % len(all_characters)  \n",
    "        password += all_characters[random_index]\n",
    "    return password\n",
    "\n",
    "user_length = int(input(\"Enter the desired length of the password: \"))\n",
    "if user_length < 1:\n",
    "    print(\"Password length must be at least 1.\")\n",
    "else:\n",
    "    generated_password = generate_password(user_length)\n",
    "    print(\"Generated Password:\", generated_password)\n"
   ]
  },
  {
   "cell_type": "code",
   "execution_count": null,
   "id": "ed18fc36-a0b1-461a-a781-d6d072e4df4c",
   "metadata": {},
   "outputs": [],
   "source": []
  },
  {
   "cell_type": "code",
   "execution_count": null,
   "id": "01f4ce8b-0b19-406f-91c3-6efdfdf62289",
   "metadata": {},
   "outputs": [],
   "source": []
  },
  {
   "cell_type": "code",
   "execution_count": null,
   "id": "3b946861-59ab-421b-9a0b-eae33602828f",
   "metadata": {},
   "outputs": [],
   "source": []
  },
  {
   "cell_type": "code",
   "execution_count": null,
   "id": "9ac5575d-c767-4ebd-aaab-23e8c44d318f",
   "metadata": {},
   "outputs": [],
   "source": []
  }
 ],
 "metadata": {
  "kernelspec": {
   "display_name": "Python 3 (ipykernel)",
   "language": "python",
   "name": "python3"
  },
  "language_info": {
   "codemirror_mode": {
    "name": "ipython",
    "version": 3
   },
   "file_extension": ".py",
   "mimetype": "text/x-python",
   "name": "python",
   "nbconvert_exporter": "python",
   "pygments_lexer": "ipython3",
   "version": "3.12.4"
  }
 },
 "nbformat": 4,
 "nbformat_minor": 5
}
